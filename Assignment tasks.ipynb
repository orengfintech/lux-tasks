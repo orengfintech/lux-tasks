{
 "cells": [
  {
   "cell_type": "code",
   "execution_count": null,
   "id": "65e21878",
   "metadata": {},
   "outputs": [
    {
     "name": "stdout",
     "output_type": "stream",
     "text": [
      "2\n",
      "3\n",
      "5\n",
      "7\n",
      "11\n",
      "13\n",
      "17\n",
      "19\n",
      "23\n",
      "29\n",
      "31\n",
      "37\n",
      "41\n",
      "43\n",
      "47\n"
     ]
    }
   ],
   "source": [
    "##1.Use list comprehension to generate prime numbers\n",
    "# start from 2 because 1 is not prime\n",
    "N=50\n",
    "for num in range(2, 51):  \n",
    "    is_prime = True\n",
    "    for i in range(2, int(num/2) + 1):\n",
    "        if num % i == 0:\n",
    "            is_prime = False\n",
    "            break\n",
    "    if is_prime:\n",
    "        print(num)\n",
    " "
   ]
  },
  {
   "cell_type": "code",
   "execution_count": 7,
   "id": "c61acf0b",
   "metadata": {},
   "outputs": [
    {
     "name": "stdout",
     "output_type": "stream",
     "text": [
      "Fruit 1: mango\n",
      "Fruit 2: apple\n",
      "Fruit 3: Guava\n",
      "Reached the third fruit. Stopping the loop.\n"
     ]
    }
   ],
   "source": [
    "##2.Code that breaks when you reach the third fruit\n",
    "fruits = [\"mango\",\"apple\",\"Guava\",\"pineapple\",\"watermelon\"]\n",
    "results = []\n",
    "count = 0\n",
    "for index, fruit in enumerate(fruits, start=1):\n",
    "    print(f\"Fruit {index}: {fruit}\")\n",
    "    if index == 3:\n",
    "        print(\"Reached the third fruit. Stopping the loop.\")\n",
    "        break"
   ]
  },
  {
   "cell_type": "code",
   "execution_count": null,
   "id": "b9aa267e",
   "metadata": {},
   "outputs": [],
   "source": [
    "##USING A FUNCTION(DEFINING THE FUNCTION)\n",
    "def process_fruits(fruits, stop_at=3):\n",
    "    results = []\n",
    "    count = 0\n",
    "\n",
    "    for fruit in fruits:\n",
    "        results.append(f\"Processing fruit: {fruit}\")\n",
    "        count += 1\n",
    "        if count == stop_at:\n",
    "            results.append(f\"Reached the {stop_at}th fruit. Stop.\")\n",
    "            break\n",
    "    results.append(\"Loop ending.\")\n",
    "    return results"
   ]
  },
  {
   "cell_type": "code",
   "execution_count": 16,
   "id": "d7e09083",
   "metadata": {},
   "outputs": [
    {
     "data": {
      "text/plain": [
       "['Processing fruit: mango',\n",
       " 'Processing fruit: apple',\n",
       " 'Processing fruit: Guava',\n",
       " 'Reached the 3th fruit. Stop.',\n",
       " 'Loop ending.']"
      ]
     },
     "execution_count": 16,
     "metadata": {},
     "output_type": "execute_result"
    }
   ],
   "source": [
    "### Calling the function\n",
    "fruits = [\"mango\",\"apple\",\"Guava\",\"pineapple\",\"watermelon\"]\n",
    "process_fruits(fruits, stop_at=3)"
   ]
  },
  {
   "cell_type": "code",
   "execution_count": 2,
   "id": "1eab28c4",
   "metadata": {},
   "outputs": [],
   "source": [
    "##3.Writing a function that checks whether a numeber is even or odd.\n",
    "##Using a nomal function\n",
    "def check_even_odd_list(numbers):\n",
    "    results = []\n",
    "    for n in numbers:\n",
    "        if n % 2 == 0:\n",
    "            results.append(f\"{n} is Even\")\n",
    "        else:\n",
    "            results.append(f\"{n} is Odd\")\n",
    "    return results        \n",
    "\n"
   ]
  },
  {
   "cell_type": "code",
   "execution_count": 3,
   "id": "e706d286",
   "metadata": {},
   "outputs": [
    {
     "data": {
      "text/plain": [
       "['1 is Odd',\n",
       " '2 is Even',\n",
       " '3 is Odd',\n",
       " '10 is Even',\n",
       " '15 is Odd',\n",
       " '20 is Even',\n",
       " '25 is Odd',\n",
       " '27 is Odd',\n",
       " '35 is Odd',\n",
       " '39 is Odd',\n",
       " '50 is Even']"
      ]
     },
     "execution_count": 3,
     "metadata": {},
     "output_type": "execute_result"
    }
   ],
   "source": [
    "## Call the function\n",
    "nums=[1, 2, 3, 10, 15,20,25,27,35,39,50]\n",
    "check_even_odd_list(nums)"
   ]
  },
  {
   "cell_type": "code",
   "execution_count": 4,
   "id": "233d2d80",
   "metadata": {},
   "outputs": [],
   "source": [
    "##2b Using Lambda\n",
    "check_even_odd_list_lambda = lambda numbers: [f\"{n} is Even\" if n % 2 == 0 else f\"{n} is Odd\" for n in numbers]"
   ]
  },
  {
   "cell_type": "code",
   "execution_count": 5,
   "id": "6656e38e",
   "metadata": {},
   "outputs": [
    {
     "data": {
      "text/plain": [
       "['4 is Even',\n",
       " '7 is Odd',\n",
       " '12 is Even',\n",
       " '15 is Odd',\n",
       " '28 is Even',\n",
       " '23 is Odd',\n",
       " '25 is Odd']"
      ]
     },
     "execution_count": 5,
     "metadata": {},
     "output_type": "execute_result"
    }
   ],
   "source": [
    "###Calling the function\n",
    "check_even_odd_list_lambda([4, 7, 12, 15,28,23,25])"
   ]
  },
  {
   "cell_type": "code",
   "execution_count": 6,
   "id": "6cc0ecbd",
   "metadata": {},
   "outputs": [
    {
     "data": {
      "text/html": [
       "<div>\n",
       "<style scoped>\n",
       "    .dataframe tbody tr th:only-of-type {\n",
       "        vertical-align: middle;\n",
       "    }\n",
       "\n",
       "    .dataframe tbody tr th {\n",
       "        vertical-align: top;\n",
       "    }\n",
       "\n",
       "    .dataframe thead th {\n",
       "        text-align: right;\n",
       "    }\n",
       "</style>\n",
       "<table border=\"1\" class=\"dataframe\">\n",
       "  <thead>\n",
       "    <tr style=\"text-align: right;\">\n",
       "      <th></th>\n",
       "      <th>Number</th>\n",
       "      <th>Result</th>\n",
       "    </tr>\n",
       "  </thead>\n",
       "  <tbody>\n",
       "    <tr>\n",
       "      <th>0</th>\n",
       "      <td>1</td>\n",
       "      <td>1 is Odd</td>\n",
       "    </tr>\n",
       "    <tr>\n",
       "      <th>1</th>\n",
       "      <td>2</td>\n",
       "      <td>2 is Even</td>\n",
       "    </tr>\n",
       "    <tr>\n",
       "      <th>2</th>\n",
       "      <td>3</td>\n",
       "      <td>3 is Odd</td>\n",
       "    </tr>\n",
       "    <tr>\n",
       "      <th>3</th>\n",
       "      <td>10</td>\n",
       "      <td>10 is Even</td>\n",
       "    </tr>\n",
       "    <tr>\n",
       "      <th>4</th>\n",
       "      <td>15</td>\n",
       "      <td>15 is Odd</td>\n",
       "    </tr>\n",
       "    <tr>\n",
       "      <th>5</th>\n",
       "      <td>20</td>\n",
       "      <td>20 is Even</td>\n",
       "    </tr>\n",
       "    <tr>\n",
       "      <th>6</th>\n",
       "      <td>25</td>\n",
       "      <td>25 is Odd</td>\n",
       "    </tr>\n",
       "    <tr>\n",
       "      <th>7</th>\n",
       "      <td>28</td>\n",
       "      <td>28 is Even</td>\n",
       "    </tr>\n",
       "  </tbody>\n",
       "</table>\n",
       "</div>"
      ],
      "text/plain": [
       "   Number      Result\n",
       "0       1    1 is Odd\n",
       "1       2   2 is Even\n",
       "2       3    3 is Odd\n",
       "3      10  10 is Even\n",
       "4      15   15 is Odd\n",
       "5      20  20 is Even\n",
       "6      25   25 is Odd\n",
       "7      28  28 is Even"
      ]
     },
     "execution_count": 6,
     "metadata": {},
     "output_type": "execute_result"
    }
   ],
   "source": [
    "##2c Using Pandas.\n",
    "import pandas as pd\n",
    "nums = [1, 2, 3, 10, 15,20,25,28]\n",
    "pd.DataFrame({\"Number\": nums, \"Result\": check_even_odd_list_lambda(nums)})"
   ]
  },
  {
   "cell_type": "code",
   "execution_count": 29,
   "id": "873c7b07",
   "metadata": {},
   "outputs": [],
   "source": [
    "##3.Car class with attributes brand and year, and a method display() that returns a formatted string with the details.\n",
    "##defining the car\n",
    "class Car:\n",
    "    def __init__(self,brand,year):\n",
    "        self.brand = brand\n",
    "        self.year = year\n",
    "    def display(self):\n",
    "        return f\"Car Brand: {self.brand}, Year: {self.year}\"        "
   ]
  },
  {
   "cell_type": "code",
   "execution_count": 31,
   "id": "f9c466dc",
   "metadata": {},
   "outputs": [
    {
     "data": {
      "text/plain": [
       "'Car Brand: BMW, Year: 2022'"
      ]
     },
     "execution_count": 31,
     "metadata": {},
     "output_type": "execute_result"
    }
   ],
   "source": [
    "## Calling the car class\n",
    "my_car = Car(\"BMW\", 2022)\n",
    "my_car.display()"
   ]
  },
  {
   "cell_type": "code",
   "execution_count": 32,
   "id": "4339f4d1",
   "metadata": {},
   "outputs": [],
   "source": [
    "\n",
    "##4.Create a class Employee with atrributes- name and salary. Create a subclass Manager with an extra department attribute and method to display full details\n",
    "class Employee:\n",
    "    def __init__(self, name, salary):\n",
    "        self.name = name\n",
    "        self.salary = salary\n",
    "\n",
    "    def display(self):\n",
    "        return f\"Employee Name: {self.name}, Salary: ${self.salary}\""
   ]
  },
  {
   "cell_type": "code",
   "execution_count": 33,
   "id": "4805f240",
   "metadata": {},
   "outputs": [
    {
     "data": {
      "text/plain": [
       "'Employee Name: Brian, Salary: $50000'"
      ]
     },
     "execution_count": 33,
     "metadata": {},
     "output_type": "execute_result"
    }
   ],
   "source": [
    "# Create an Employee by calling the class Employee\n",
    "emp = Employee(\"Brian\", 50000)\n",
    "emp.display()"
   ]
  },
  {
   "cell_type": "code",
   "execution_count": 36,
   "id": "544a0469",
   "metadata": {},
   "outputs": [],
   "source": [
    "##Manager inherits from Employee\n",
    "class Manager(Employee):  \n",
    "    def __init__(self, name, salary, department):\n",
    "        # call the parent constructor\n",
    "        super().__init__(name, salary)  \n",
    "        self.department = department\n",
    "\n",
    "    def display(self):\n",
    "        return f\"Manager Name: {self.name}, Salary: ${self.salary}, Department: {self.department}\""
   ]
  },
  {
   "cell_type": "code",
   "execution_count": 37,
   "id": "9164072c",
   "metadata": {},
   "outputs": [
    {
     "data": {
      "text/plain": [
       "'Manager Name: Brian, Salary: $80000, Department: IT'"
      ]
     },
     "execution_count": 37,
     "metadata": {},
     "output_type": "execute_result"
    }
   ],
   "source": [
    "##Calling the subcalss manager\n",
    "mgr = Manager(\"Brian\", 80000, \"IT\")\n",
    "mgr.display()"
   ]
  },
  {
   "cell_type": "code",
   "execution_count": 42,
   "id": "b20db6ec",
   "metadata": {},
   "outputs": [
    {
     "name": "stdout",
     "output_type": "stream",
     "text": [
      "💡 Hello! I'm a Data Science and AI Chatbot. Ask me anything!\n",
      "💡 Type 'quit' to exit.\n",
      "💡 Chatbot will terminate if no input is given for 1 minute.\n",
      "💡 Chatbot: Python is very popular for AI and data science due to libraries like TensorFlow, PyTorch, Scikit-learn, and Pandas.\n",
      "💡 Chatbot: Goodbye! Hope to see you again.\n"
     ]
    }
   ],
   "source": [
    "##Creating a Chatbot\n",
    "import threading\n",
    "def timed_input(prompt, timeout=60):\n",
    "    result = [None]\n",
    "\n",
    "    def get_input():\n",
    "        result[0] = input(prompt)\n",
    "\n",
    "    thread = threading.Thread(target=get_input)\n",
    "    thread.start()\n",
    "    thread.join(timeout)\n",
    "    if thread.is_alive():\n",
    "        print(f\"\\n💡 No input received in {timeout} seconds.\")\n",
    "        return None\n",
    "    return result[0]\n",
    "\n",
    "def chatbot():\n",
    "    print(\"💡 Hello! I'm a Data Science and AI Chatbot. Ask me anything!\")\n",
    "    print(\"💡 Type 'quit' to exit.\")\n",
    "    print(\"💡 Chatbot will terminate if no input is given for 1 minute.\")\n",
    "\n",
    "    message_count = 0\n",
    "\n",
    "    while True:\n",
    "        message_count += 1\n",
    "        user_input = timed_input(f\"You ({message_count}): \", timeout=60)\n",
    "\n",
    "        if not user_input:  # Timeout\n",
    "            print(\"\\n💡 Chatbot: No input received for 1 minute. Terminating...\")\n",
    "            break\n",
    "\n",
    "        user_input = user_input.lower()\n",
    "\n",
    "        if user_input == \"quit\":\n",
    "            print(\"💡 Chatbot: Goodbye! Hope to see you again.\")\n",
    "            break\n",
    "\n",
    "        # Keyword-based responses\n",
    "        if \"data science\" in user_input:\n",
    "            print(\"💡 Chatbot: Data science is an interdisciplinary field that uses scientific methods, processes, algorithms, and systems to extract knowledge and insights from data.\")\n",
    "        elif \"artificial intelligence\" in user_input or \"ai\" in user_input:\n",
    "            print(\"💡 Chatbot: Artificial intelligence (AI) is about building smart machines capable of performing tasks that typically require human intelligence.\")\n",
    "        elif \"machine learning\" in user_input:\n",
    "            print(\"💡 Chatbot: Machine learning is a subset of AI that enables systems to learn from data, identify patterns, and make decisions with minimal human intervention.\")\n",
    "        elif \"deep learning\" in user_input:\n",
    "            print(\"💡 Chatbot: Deep learning uses neural networks with many layers (deep neural networks) to learn complex patterns in data.\")\n",
    "        elif \"model\" in user_input:\n",
    "            print(\"💡 Chatbot: In data science and AI, a model is a mathematical representation of a real-world process used for predictions or classifications.\")\n",
    "        elif \"programming language\" in user_input or \"language for ai\" in user_input or \"python\" in user_input:\n",
    "            print(\"💡 Chatbot: Python is very popular for AI and data science due to libraries like TensorFlow, PyTorch, Scikit-learn, and Pandas.\")\n",
    "        elif \"big data\" in user_input:\n",
    "            print(\"💡 Chatbot: Big Data refers to extremely large data sets that can be analyzed to reveal patterns, trends, and associations.\")\n",
    "        elif \"neural network\" in user_input:\n",
    "            print(\"💡 Chatbot: A neural network is a set of algorithms modeled after the human brain that recognizes patterns in data.\")\n",
    "        else:\n",
    "            print(\"💡 Chatbot: I'm not sure I understand. Can you rephrase or ask about data science/AI topics?\")\n",
    "chatbot()"
   ]
  },
  {
   "cell_type": "markdown",
   "id": "1bad171d",
   "metadata": {},
   "source": []
  }
 ],
 "metadata": {
  "kernelspec": {
   "display_name": "Python 3",
   "language": "python",
   "name": "python3"
  },
  "language_info": {
   "codemirror_mode": {
    "name": "ipython",
    "version": 3
   },
   "file_extension": ".py",
   "mimetype": "text/x-python",
   "name": "python",
   "nbconvert_exporter": "python",
   "pygments_lexer": "ipython3",
   "version": "3.11.9"
  }
 },
 "nbformat": 4,
 "nbformat_minor": 5
}
